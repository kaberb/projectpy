{
 "cells": [
  {
   "cell_type": "code",
   "execution_count": 18,
   "id": "01b9ce6f",
   "metadata": {},
   "outputs": [],
   "source": [
    "from tkinter import *\n",
    "from math import *\n",
    "from tkinter.font import Font\n",
    "\n",
    "\n",
    "n = 3\n",
    "exemple_graphe_1 = [[0 for j in range(n)] for i in range(n)] \n",
    "exemple_graphe_1[0][1] = 1; exemple_graphe_1[1][0] = 1\n",
    "exemple_graphe_1[0][2] = 1; exemple_graphe_1[2][0] = 1\n"
   ]
  },
  {
   "cell_type": "code",
   "execution_count": 19,
   "id": "49c32a8e",
   "metadata": {},
   "outputs": [],
   "source": [
    "n = 4\n",
    "\n",
    "exemple_graphe_2 = [[0 for j in range(n)] for i in range(n)] \n",
    "\n",
    "exemple_graphe_2[0][2] = 1; exemple_graphe_2[2][0] = 1 \n",
    "exemple_graphe_2[0][3] = 1; exemple_graphe_2[3][0] = 1\n",
    "exemple_graphe_2[1][2] = 1; exemple_graphe_2[2][1] = 1\n",
    "\n"
   ]
  },
  {
   "cell_type": "code",
   "execution_count": 20,
   "id": "8a52023a",
   "metadata": {},
   "outputs": [],
   "source": [
    "n = 5\n",
    "\n",
    "exemple_graphe_3 = [[0 for j in range(n)] for i in range(n)] \n",
    "\n",
    "exemple_graphe_3[0][2] = 1; exemple_graphe_3[2][0] = 1 \n",
    "exemple_graphe_3[0][3] = 1; exemple_graphe_3[3][0] = 1\n",
    "exemple_graphe_3[1][2] = 1; exemple_graphe_3[2][1] = 1\n",
    "exemple_graphe_3[1][4] = 1; exemple_graphe_3[4][1] = 1\n",
    "exemple_graphe_3[3][4] = 1; exemple_graphe_3[4][3] = 1 "
   ]
  },
  {
   "cell_type": "code",
   "execution_count": 21,
   "id": "092d79e4",
   "metadata": {},
   "outputs": [],
   "source": [
    "n = 6\n",
    "\n",
    "exemple_graphe_4 = [[0 for j in range(n)] for i in range(n)] \n",
    "\n",
    "exemple_graphe_4[3][2] = 1; exemple_graphe_4[2][3] = 1; \n",
    "exemple_graphe_4[1][2] = 1; exemple_graphe_4[2][1] = 1\n",
    "exemple_graphe_4[3][4] = 1; exemple_graphe_4[4][3] = 1\n",
    "exemple_graphe_4[4][1] = 1; exemple_graphe_4[1][4] = 1\n",
    "exemple_graphe_4[0][2] = 1; exemple_graphe_4[2][0] = 1\n",
    "exemple_graphe_4[5][0] = 1; exemple_graphe_4[0][5] = 1\n",
    "exemple_graphe_4[5][1] = 1; exemple_graphe_4[1][5] = 1\n",
    "exemple_graphe_4[0][3] = 1; exemple_graphe_4[3][0] = 1"
   ]
  },
  {
   "cell_type": "code",
   "execution_count": 22,
   "id": "fa253f08",
   "metadata": {},
   "outputs": [],
   "source": [
    "n = 4\n",
    "\n",
    "exemple_graphe_cours_1 = [[0 for j in range(n)] for i in range(n)] \n",
    "\n",
    "exemple_graphe_cours_1[0][2] = 1; exemple_graphe_cours_1[2][0] = 1 \n",
    "exemple_graphe_cours_1[1][3] = 1; exemple_graphe_cours_1[3][1] = 1\n"
   ]
  },
  {
   "cell_type": "code",
   "execution_count": 23,
   "id": "1733736d",
   "metadata": {},
   "outputs": [],
   "source": [
    "def voir_graphe(graphe):\n",
    "    \"\"\"\n",
    "    Affiche un graphe à l'écran\n",
    "    Entrée : un graphe comme tableau à deux dimension\n",
    "    Sortie : rien (affichage à l'écran)\n",
    "    \"\"\"    \n",
    "    \n",
    "    n = len(graphe)\n",
    "\n",
    "    for j in range(n):\n",
    "        for i in range(n):\n",
    "            print(graphe[i][j], end=\"\")\n",
    "        print()\n",
    "\n",
    "    return\n"
   ]
  },
  {
   "cell_type": "code",
   "execution_count": 24,
   "id": "e5ed8356",
   "metadata": {},
   "outputs": [
    {
     "name": "stdout",
     "output_type": "stream",
     "text": [
      "--- Matrice du graphe ---\n",
      "--- Exemple 1 ---\n",
      "011\n",
      "100\n",
      "100\n",
      "--- Exemple 2 ---\n",
      "0011\n",
      "0010\n",
      "1100\n",
      "1000\n",
      "--- Exemple 3 ---\n",
      "00110\n",
      "00101\n",
      "11000\n",
      "10001\n",
      "01010\n",
      "--- Exemple 4 ---\n",
      "001101\n",
      "001011\n",
      "110100\n",
      "101010\n",
      "010100\n",
      "110000\n",
      "--- Cours 1 ---\n",
      "0010\n",
      "0001\n",
      "1000\n",
      "0100\n"
     ]
    }
   ],
   "source": [
    "if __name__ == '__main__':\n",
    "    print(\"--- Matrice du graphe ---\")\n",
    "    print(\"--- Exemple 1 ---\")\n",
    "    voir_graphe(exemple_graphe_1)\n",
    "    print(\"--- Exemple 2 ---\")\n",
    "    voir_graphe(exemple_graphe_2)\n",
    "    print(\"--- Exemple 3 ---\")\n",
    "    voir_graphe(exemple_graphe_3)\n",
    "    print(\"--- Exemple 4 ---\")\n",
    "    voir_graphe(exemple_graphe_4)\n",
    "\n",
    "    print(\"--- Cours 1 ---\")\n",
    "    voir_graphe(exemple_graphe_cours_1)    "
   ]
  },
  {
   "cell_type": "code",
   "execution_count": 25,
   "id": "73d64a4b",
   "metadata": {},
   "outputs": [],
   "source": [
    "def contient_3_amis_fixes(graphe,i,j,k):\n",
    "    \"\"\"Cherche si sommets i, j, k sont tous reliés entre eux comme amis\"\"\"\n",
    "    if graphe[i][j] == 1 and graphe[i][k] == 1 and graphe[j][k] == 1:\n",
    "        return True\n",
    "    else:\n",
    "        return False\n"
   ]
  },
  {
   "cell_type": "code",
   "execution_count": 26,
   "id": "52231ca2",
   "metadata": {},
   "outputs": [],
   "source": [
    "def contient_3_etrangers_fixes(graphe,i,j,k):\n",
    "    \"\"\"Cherche si sommets i, j, k sont tous reliés entre eux comme étrangers\"\"\"\n",
    "    if graphe[i][j] == 0 and graphe[i][k] == 0 and graphe[j][k] == 0:\n",
    "        return True\n",
    "    else:\n",
    "        return False        \n",
    "\n"
   ]
  },
  {
   "cell_type": "code",
   "execution_count": 27,
   "id": "de16eea6",
   "metadata": {},
   "outputs": [
    {
     "name": "stdout",
     "output_type": "stream",
     "text": [
      "--- Sous-graphe fixé de 0 et de 1 ---\n",
      "False\n",
      "False\n"
     ]
    }
   ],
   "source": [
    "# Test\n",
    "if __name__ == '__main__':\n",
    "    print(\"--- Sous-graphe fixé de 0 et de 1 ---\")\n",
    "    print(contient_3_amis_fixes(exemple_graphe_4 ,1,3,4))\n",
    "    print(contient_3_etrangers_fixes(exemple_graphe_4 ,1,3,4))\n"
   ]
  },
  {
   "cell_type": "code",
   "execution_count": 35,
   "id": "69dcfe1c",
   "metadata": {},
   "outputs": [],
   "source": [
    "# Fenêtre tkinter\n",
    "root = Tk()\n",
    "\n",
    "canvas = Canvas(root, width=800, height=500, background=\"white\")\n",
    "canvas.pack(side=LEFT, padx=5, pady=5)\n",
    "\n",
    "# Echelle \n",
    "rayon = 200"
   ]
  },
  {
   "cell_type": "code",
   "execution_count": 36,
   "id": "801ac59d",
   "metadata": {},
   "outputs": [],
   "source": [
    "##################################################\n",
    "# Un graphe \n",
    "\n",
    "## Question 1 ##\n",
    "\n",
    "# Version basique (recalcule plein de fois la même chose)\n",
    "##################################################\n",
    "def afficher_graphe_basic(graphe):\n",
    "    \"\"\"\n",
    "    Affiche un graphe à l'écran\n",
    "    Entrée : un graphe\n",
    "    Sortie : rien (affichage à l'écran)\n",
    "    \"\"\"    \n",
    "    n = len(graphe)\n",
    "    \n",
    "      # Arêtes\n",
    "    for j in range(n):\n",
    "        for i in range(n):\n",
    "            xi = 2*rayon + cos(2*i*pi/n)*echelle\n",
    "            yi = 1.5*rayon + sin(2*i*pi/n)*echelle\n",
    "            xj = 2*rayon + cos(2*j*pi/n)*echelle\n",
    "            yj = 1.5*rayon + sin(2*j*pi/n)*echelle        \n",
    "            if graphe[i][j] == 0:\n",
    "                canvas.create_line(xi,yi,xj,yj,width=4,fill=\"red\") \n",
    "            if graphe[i][j] == 1:\n",
    "                canvas.create_line(xi,yi,xj,yj,width=4,fill=\"green\") \n",
    "\n",
    "    # Sommets                 \n",
    "    for i in range(n):\n",
    "        x = 2*rayon + cos(2*i*pi/n)*echelle\n",
    "        y = rayon + sin(2*i*pi/n)*echelle\n",
    "        canvas.create_oval(x-5,y-5,x+5,y+5,fill=\"black\")\n",
    "\n",
    "    return"
   ]
  },
  {
   "cell_type": "code",
   "execution_count": 37,
   "id": "06ecee5a",
   "metadata": {},
   "outputs": [],
   "source": [
    "# Version optimale \n",
    "##################################################\n",
    "def afficher_graphe(graphe):\n",
    "    \"\"\"\n",
    "    Affiche un graphe à l'écran\n",
    "    Entrée : un graphe\n",
    "    Sortie : rien (affichage à l'écran)\n",
    "    \"\"\"    \n",
    "    n = len(graphe)  # Nombre de sommets\n",
    "\n",
    "    # Liste des coordonnées (x,y) des sommets\n",
    "    coord = [(2*echelle + cos(2*i*pi/n)*rayon,1.2*rayon + sin(2*i*pi/n)*rayon) for i in range(n)]\n",
    "\n",
    "    # Arêtes\n",
    "    for j in range(n):\n",
    "        for i in range(j+1,n):  # i>j\n",
    "            if graphe[i][j] == 0:\n",
    "                canvas.create_line(coord[i],coord[j],width=4,fill=\"red\",dash=(6, 2)) \n",
    "            if graphe[i][j] == 1:\n",
    "                canvas.create_line(coord[i],coord[j],width=4,fill=\"green\")\n",
    "\n",
    "    mafonte = Font(family=\"Courier\", weight=\"bold\",size=18)\n",
    "     # Sommets                  \n",
    "    for i in range(n):\n",
    "        x,y = coord[i]\n",
    "        canvas.create_oval(x-15,y-15,x+15,y+15,fill=\"black\")\n",
    "        canvas.create_text(x,y,text=str(i),font=mafonte,fill=\"white\")\n",
    "\n",
    "    # Numéro\n",
    "\n",
    "\n",
    "    return"
   ]
  },
  {
   "cell_type": "code",
   "execution_count": 38,
   "id": "e70bc922",
   "metadata": {},
   "outputs": [],
   "source": [
    "# Lancement de la fenêtre \n",
    "if __name__ == '__main__':\n",
    "    bouton_quitter = Button(root,text=\"Quitter\", width=8, command=root.quit)\n",
    "    bouton_quitter.pack(side=BOTTOM, padx=5, pady=20)\n",
    "\n",
    "    # Test d'un exemple\n",
    "    afficher_graphe(exemple_graphe_2)\n",
    "    root.mainloop()"
   ]
  },
  {
   "cell_type": "code",
   "execution_count": 39,
   "id": "367fd0c0",
   "metadata": {},
   "outputs": [
    {
     "name": "stdout",
     "output_type": "stream",
     "text": [
      "[0, 0, 1, 0, 0, 1, 0, 1]\n",
      "[0, 0, 1, 0, 0, 1, 0, 1]\n",
      "[0, 0, 1, 0, 0, 1, 0, 1]\n",
      "[0, 0, 1, 0, 0, 1, 0, 1]\n"
     ]
    }
   ],
   "source": [
    "##############################\n",
    "# Activité 3 - Binaire\n",
    "##############################\n",
    "\n",
    "## Echanger n <-> p pour être cohérent avec fiche binaire\n",
    "\n",
    "def decimal_vers_binaire(p,n):\n",
    "    chaine_b = bin(p)  # Conversion en une chaîne écriture binaire\n",
    "    chaine_bb = chaine_b[2:]  # On enlève le préfixe\n",
    "    # On transforme la chaine en une liste **d'entiers** 0 ou 1\n",
    "    liste_binaire = []\n",
    "    for b in chaine_bb:\n",
    "        liste_binaire = liste_binaire + [int(b)]\n",
    "\n",
    "    # On rajoute des zéros au début si besoin\n",
    "    nb_zeros = n - len(liste_binaire)\n",
    "    for i in range(nb_zeros):\n",
    "        liste_binaire = [0] + liste_binaire\n",
    "\n",
    "    return liste_binaire\n",
    "\n",
    "\n",
    "# Version plus courte qui utilise \"format()\"\n",
    "def decimal_vers_binaire_bis(p,n):\n",
    "    modele = '{:0'+str(n)+'b}'\n",
    "    chaine_binaire = modele.format(p)\n",
    "    liste_binaire = [int(b) for b in list(chaine_binaire)]\n",
    "    return liste_binaire\n",
    "\n",
    "\n",
    "# Test \n",
    "if __name__ == '__main__':\n",
    "    n = 8\n",
    "    p = 37\n",
    "    print(decimal_vers_binaire(p,n))\n",
    "    print(decimal_vers_binaire_bis(p,n))\n",
    "##############################\n",
    "# Activité 3 - Binaire\n",
    "##############################\n",
    "\n",
    "## Echanger n <-> p pour être cohérent avec fiche binaire\n",
    "\n",
    "def decimal_vers_binaire(p,n):\n",
    "    chaine_b = bin(p)  # Conversion en une chaîne écriture binaire\n",
    "    chaine_bb = chaine_b[2:]  # On enlève le préfixe\n",
    "    # On transforme la chaine en une liste **d'entiers** 0 ou 1\n",
    "    liste_binaire = []\n",
    "    for b in chaine_bb:\n",
    "        liste_binaire = liste_binaire + [int(b)]\n",
    "\n",
    "    # On rajoute des zéros au début si besoin\n",
    "    nb_zeros = n - len(liste_binaire)\n",
    "    for i in range(nb_zeros):\n",
    "        liste_binaire = [0] + liste_binaire\n",
    "\n",
    "    return liste_binaire\n",
    "\n",
    "\n",
    "# Version plus courte qui utilise \"format()\"\n",
    "def decimal_vers_binaire_bis(p,n):\n",
    "    modele = '{:0'+str(n)+'b}'\n",
    "    chaine_binaire = modele.format(p)\n",
    "    liste_binaire = [int(b) for b in list(chaine_binaire)]\n",
    "    return liste_binaire\n",
    "\n",
    "\n",
    "# Test \n",
    "if __name__ == '__main__':\n",
    "    n = 8\n",
    "    p = 37\n",
    "    print(decimal_vers_binaire(p,n))\n",
    "    print(decimal_vers_binaire_bis(p,n))\n"
   ]
  },
  {
   "cell_type": "code",
   "execution_count": 46,
   "id": "938d6d85",
   "metadata": {},
   "outputs": [],
   "source": [
    "##############################\n",
    "# Activité 4 - Sous-ensembles\n",
    "##############################\n",
    "\n",
    "## Question 1 ##\n",
    "\n",
    "\n",
    "# Génère tous les sous-ensembles\n",
    "\n",
    "##################################################\n",
    "def sous_ensembles(n):\n",
    "    \"\"\"Trouve tous les sous-ensembles de l'ensemble à n éléments [0,1,2,...n-1]\"\"\"\n",
    "\n",
    "    tous_sous_ens = []\n",
    "\n",
    "    for p in range(2**n):\n",
    "\n",
    "        # Conversion binaire\n",
    "        liste_binaire = decimal_vers_binaire(p,n)\n",
    "        #print(liste_binaire)\n",
    "\n",
    "        sous_ens = []\n",
    "        for j in range(n):\n",
    "            # if liste_binaire[n-j-1] == 1:  \n",
    "            if liste_binaire[j] == 1:                \n",
    "                sous_ens = sous_ens + [j]\n",
    "\n",
    "        tous_sous_ens = tous_sous_ens + [sous_ens]\n",
    "\n",
    "    return tous_sous_ens"
   ]
  },
  {
   "cell_type": "code",
   "execution_count": 47,
   "id": "7093a2a5",
   "metadata": {},
   "outputs": [
    {
     "name": "stdout",
     "output_type": "stream",
     "text": [
      "--- Sous-ensembles ---\n",
      "Pour n =  3\n",
      "Nombre de sous-ensembles =  8\n",
      "[[], [2], [1], [1, 2], [0], [0, 2], [0, 1], [0, 1, 2]]\n"
     ]
    }
   ],
   "source": [
    "# Test \n",
    "if __name__ == '__main__':\n",
    "    print(\"--- Sous-ensembles ---\")\n",
    "    n = 3\n",
    "    SS_ENS = sous_ensembles(n) \n",
    "    print(\"Pour n = \",n)\n",
    "    print(\"Nombre de sous-ensembles = \",len(SS_ENS))\n",
    "    print(SS_ENS)\n"
   ]
  },
  {
   "cell_type": "code",
   "execution_count": 48,
   "id": "2d406d24",
   "metadata": {},
   "outputs": [
    {
     "name": "stdout",
     "output_type": "stream",
     "text": [
      "--- Sous-ensembles à 3 éléments ---\n",
      "Pour n =  6  k =  3\n",
      "Nombre de sous-ensembles à 3 éléments =  20\n",
      "[[3, 4, 5], [2, 4, 5], [2, 3, 5], [2, 3, 4], [1, 4, 5], [1, 3, 5], [1, 3, 4], [1, 2, 5], [1, 2, 4], [1, 2, 3], [0, 4, 5], [0, 3, 5], [0, 3, 4], [0, 2, 5], [0, 2, 4], [0, 2, 3], [0, 1, 5], [0, 1, 4], [0, 1, 3], [0, 1, 2]]\n"
     ]
    }
   ],
   "source": [
    "## Question 2 ##\n",
    "\n",
    "##################################################\n",
    "def sous_ensembles_fixe(n,k):\n",
    "    tous_sous_ens_fixe = []\n",
    "    for sous_ens in sous_ensembles(n):\n",
    "        if len(sous_ens) == k:\n",
    "            tous_sous_ens_fixe = tous_sous_ens_fixe + [sous_ens]\n",
    "    return tous_sous_ens_fixe\n",
    "\n",
    "# Test (suite)\n",
    "if __name__ == '__main__':\n",
    "    print(\"--- Sous-ensembles à 3 éléments ---\")\n",
    "\n",
    "    n = 6\n",
    "    k = 3\n",
    "    SS_ENS_3 = sous_ensembles_fixe(n,k)\n",
    "    print(\"Pour n = \",n,\" k = \",k)\n",
    "    print(\"Nombre de sous-ensembles à 3 éléments = \",len(SS_ENS_3))\n",
    "    print(SS_ENS_3)\n"
   ]
  },
  {
   "cell_type": "code",
   "execution_count": null,
   "id": "7b4df4b5",
   "metadata": {},
   "outputs": [],
   "source": []
  }
 ],
 "metadata": {
  "kernelspec": {
   "display_name": "Python 3 (ipykernel)",
   "language": "python",
   "name": "python3"
  },
  "language_info": {
   "codemirror_mode": {
    "name": "ipython",
    "version": 3
   },
   "file_extension": ".py",
   "mimetype": "text/x-python",
   "name": "python",
   "nbconvert_exporter": "python",
   "pygments_lexer": "ipython3",
   "version": "3.9.7"
  }
 },
 "nbformat": 4,
 "nbformat_minor": 5
}
